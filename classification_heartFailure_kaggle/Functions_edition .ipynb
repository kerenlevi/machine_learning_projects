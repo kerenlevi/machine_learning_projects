{
 "cells": [
  {
   "cell_type": "code",
   "execution_count": null,
   "id": "cec63230",
   "metadata": {},
   "outputs": [],
   "source": [
    "def subplotting_model(n_rows, m_cols, plot_cl, p_figsize, s_title, x_axis, metric_y):\n",
    "    \n",
    "    '''\n",
    "    n_rows, m_cols (int): subplot size\n",
    "    plot_cl (Bool): Constrained layout of subplots\n",
    "    p_figsize (tuple): total figure size \n",
    "    \n",
    "    s_title(str): sup_title, the title to whole figure\n",
    "    \n",
    "    x_axis (range function : range(a,b)): range of x plotting \n",
    "    \n",
    "    metric_y (Nested dictionary) = nested dictionart of sub_plot location range(0, nrows*ncols),\n",
    "            metric name (str) and y_values to plot(list).\n",
    "                * please note index 0: will be the lead metric and max pointer to the rest of the plots. \n",
    "    '''\n",
    "    fig, axes = plt.subplots(n_rows, m_cols,constrained_layout = plot_cl,  figsize = p_figsize)\n",
    "    fig.suptitle(s_title, fontsize='x-large', fontweight='bold')\n",
    "\n",
    "    plots = n_rows*m_cols #num of figures to plot\n",
    "    \n",
    "    # Index starts at 0, values start an x_range[0]\n",
    "    metric_0 = list(metric_y.get(0).values())[0]\n",
    "    x_max_index = metric_0.index(max(metric_0))\n",
    "    \n",
    "    x_max_plot = x_max_index + x_axis[0]\n",
    "    \n",
    "    for i in range (plots):\n",
    "        metric = list(metric_y.get(i).keys())[0]\n",
    "        values =  list(metric_y.get(i).values())[0]\n",
    "        \n",
    "        axes[i].plot(x_axis,values)\n",
    "        axes[i].set_title(metric)\n",
    "        \n",
    "        max_val = values[x_max_index]\n",
    "        \n",
    "        axes[i].annotate(\"{}: {:.2f}\".format(x_max_plot, round(max_val, 2)),\n",
    "                 xy = (x_max_plot,max_val), xytext = (x_max_plot,1.005*max_val),\n",
    "                         color='red', fontsize='medium', fontweight='bold')\n",
    "        axes[i].plot(x_max_plot,max_val, 'ro')"
   ]
  }
 ],
 "metadata": {
  "kernelspec": {
   "display_name": "Python 3",
   "language": "python",
   "name": "python3"
  },
  "language_info": {
   "codemirror_mode": {
    "name": "ipython",
    "version": 3
   },
   "file_extension": ".py",
   "mimetype": "text/x-python",
   "name": "python",
   "nbconvert_exporter": "python",
   "pygments_lexer": "ipython3",
   "version": "3.8.3"
  }
 },
 "nbformat": 4,
 "nbformat_minor": 5
}
