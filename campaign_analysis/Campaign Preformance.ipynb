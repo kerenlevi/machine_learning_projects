{
 "cells": [
  {
   "cell_type": "code",
   "execution_count": 1,
   "metadata": {},
   "outputs": [],
   "source": [
    "import numpy as np\n",
    "import pandas as pd \n",
    "import matplotlib.pyplot as plt\n",
    "import chardet\n",
    "\n",
    "%matplotlib inline"
   ]
  },
  {
   "cell_type": "code",
   "execution_count": 4,
   "metadata": {},
   "outputs": [],
   "source": [
    "Camp_Pref = pd.read_csv('campaigns performance.csv',encoding='utf_8_sig',sep=',', header=2)"
   ]
  },
  {
   "cell_type": "code",
   "execution_count": 5,
   "metadata": {},
   "outputs": [
    {
     "data": {
      "text/html": [
       "<div>\n",
       "<style scoped>\n",
       "    .dataframe tbody tr th:only-of-type {\n",
       "        vertical-align: middle;\n",
       "    }\n",
       "\n",
       "    .dataframe tbody tr th {\n",
       "        vertical-align: top;\n",
       "    }\n",
       "\n",
       "    .dataframe thead th {\n",
       "        text-align: right;\n",
       "    }\n",
       "</style>\n",
       "<table border=\"1\" class=\"dataframe\">\n",
       "  <thead>\n",
       "    <tr style=\"text-align: right;\">\n",
       "      <th></th>\n",
       "      <th>Week</th>\n",
       "      <th>Campaign</th>\n",
       "      <th>Campaign ID</th>\n",
       "      <th>Currency</th>\n",
       "      <th>Clicks</th>\n",
       "      <th>Impressions</th>\n",
       "      <th>CTR</th>\n",
       "      <th>Avg. CPC</th>\n",
       "      <th>Cost</th>\n",
       "      <th>Impr. (Abs. Top) %</th>\n",
       "      <th>Impr. (Top) %</th>\n",
       "      <th>Conversions</th>\n",
       "      <th>View-through conv.</th>\n",
       "      <th>Cost / conv.</th>\n",
       "      <th>Conv. rate</th>\n",
       "      <th>Search Impr. share</th>\n",
       "      <th>Search Lost IS (budget)</th>\n",
       "      <th>Search Lost IS (rank)</th>\n",
       "    </tr>\n",
       "  </thead>\n",
       "  <tbody>\n",
       "    <tr>\n",
       "      <th>0</th>\n",
       "      <td>Week of Oct 26, 2020</td>\n",
       "      <td>Shopping – Smart IL1 #QA V1 תקין</td>\n",
       "      <td>11522694129</td>\n",
       "      <td>USD</td>\n",
       "      <td>0</td>\n",
       "      <td>2</td>\n",
       "      <td>0.00%</td>\n",
       "      <td>0.0</td>\n",
       "      <td>0.00</td>\n",
       "      <td>0.00%</td>\n",
       "      <td>0.00%</td>\n",
       "      <td>0.0</td>\n",
       "      <td>0</td>\n",
       "      <td>0.00</td>\n",
       "      <td>0.00%</td>\n",
       "      <td>100.00%</td>\n",
       "      <td>0.00%</td>\n",
       "      <td>0.00%</td>\n",
       "    </tr>\n",
       "  </tbody>\n",
       "</table>\n",
       "</div>"
      ],
      "text/plain": [
       "                   Week                          Campaign  Campaign ID  \\\n",
       "0  Week of Oct 26, 2020  Shopping – Smart IL1 #QA V1 תקין  11522694129   \n",
       "\n",
       "  Currency Clicks Impressions    CTR  Avg. CPC  Cost Impr. (Abs. Top) %  \\\n",
       "0      USD      0           2  0.00%       0.0  0.00              0.00%   \n",
       "\n",
       "  Impr. (Top) %  Conversions  View-through conv. Cost / conv. Conv. rate  \\\n",
       "0         0.00%          0.0                   0         0.00      0.00%   \n",
       "\n",
       "  Search Impr. share Search Lost IS (budget) Search Lost IS (rank)  \n",
       "0            100.00%                   0.00%                 0.00%  "
      ]
     },
     "execution_count": 5,
     "metadata": {},
     "output_type": "execute_result"
    }
   ],
   "source": [
    "Camp_Pref.head(1)"
   ]
  },
  {
   "cell_type": "code",
   "execution_count": 6,
   "metadata": {},
   "outputs": [],
   "source": [
    "Camp_Pref.drop(['Currency'], axis =1, inplace = True)"
   ]
  },
  {
   "cell_type": "code",
   "execution_count": 7,
   "metadata": {},
   "outputs": [],
   "source": [
    "# Updating the columns type for further calculations \n",
    "\n",
    "Camp_Pref['Clicks'] = Camp_Pref['Clicks'].str.replace(',' , '').astype('float64')\n",
    "Camp_Pref['Impressions'] = Camp_Pref['Impressions'].str.replace(',' , '').astype('float64')\n",
    "Camp_Pref['CTR'] = Camp_Pref['CTR'].astype('str').str.rstrip('%').astype('float64')\n",
    "Camp_Pref['Avg. CPC'] = Camp_Pref['Avg. CPC'].astype('float64')\n",
    "Camp_Pref['Cost'] = Camp_Pref['Cost'].str.replace(',' , '').astype('float64')\n",
    "Camp_Pref['Impr. (Abs. Top) %'] = Camp_Pref['Impr. (Abs. Top) %'].astype('str').str.rstrip('%').astype('float64')\n",
    "Camp_Pref['Impr. (Top) %'] = Camp_Pref['Impr. (Top) %'].astype('str').str.rstrip('%').astype('float64')\n",
    "Camp_Pref['Conversions'] = Camp_Pref['Conversions'].astype('float64')\n",
    "Camp_Pref['Conv. rate'] = Camp_Pref['Conv. rate'].astype('str').str.rstrip('%').astype('float64')\n",
    "Camp_Pref['Cost / conv.'] = Camp_Pref['Cost / conv.'].str.replace(',' , '').astype('float64')"
   ]
  },
  {
   "cell_type": "code",
   "execution_count": 8,
   "metadata": {},
   "outputs": [],
   "source": [
    "# >90 will change to 90% and <10 will be changed to 10%\n",
    "# (This metrics shows how well did our add worked, but for high and low rated is doesnt give a good approximation)\n",
    "\n",
    "Camp_Pref['Search Lost IS (rank)'] = Camp_Pref['Search Lost IS (rank)'].replace(' --', np.nan)\n",
    "Camp_Pref['Search Lost IS (rank)'] = Camp_Pref['Search Lost IS (rank)'].replace('>90%', '90%')\n",
    "Camp_Pref['Search Lost IS (rank)'] = Camp_Pref['Search Lost IS (rank)'].replace('<10 %','10%').astype('str').str.rstrip('%').astype('float64')\n",
    "\n",
    "Camp_Pref['Search Impr. share'] = Camp_Pref['Search Impr. share'].replace(' --', np.nan)\n",
    "Camp_Pref['Search Impr. share'] = Camp_Pref['Search Impr. share'].replace('>90%', '90%')\n",
    "Camp_Pref['Search Impr. share'] = Camp_Pref['Search Impr. share'].replace('<10%','10%').astype('str').str.rstrip('%').astype('float64')\n",
    "\n",
    "Camp_Pref['Search Lost IS (budget)'] = Camp_Pref['Search Lost IS (budget)'].replace(' --', np.nan)\n",
    "Camp_Pref['Search Lost IS (budget)'] = Camp_Pref['Search Lost IS (budget)'].replace('>90%', '90%')\n",
    "Camp_Pref['Search Lost IS (budget)'] = Camp_Pref['Search Lost IS (budget)'].replace('<10%','10%').astype('str').str.rstrip('%').astype('float64')"
   ]
  },
  {
   "cell_type": "code",
   "execution_count": 9,
   "metadata": {},
   "outputs": [
    {
     "name": "stdout",
     "output_type": "stream",
     "text": [
      "<class 'pandas.core.frame.DataFrame'>\n",
      "RangeIndex: 494 entries, 0 to 493\n",
      "Data columns (total 17 columns):\n",
      " #   Column                   Non-Null Count  Dtype  \n",
      "---  ------                   --------------  -----  \n",
      " 0   Week                     494 non-null    object \n",
      " 1   Campaign                 494 non-null    object \n",
      " 2   Campaign ID              494 non-null    int64  \n",
      " 3   Clicks                   494 non-null    float64\n",
      " 4   Impressions              494 non-null    float64\n",
      " 5   CTR                      494 non-null    float64\n",
      " 6   Avg. CPC                 494 non-null    float64\n",
      " 7   Cost                     494 non-null    float64\n",
      " 8   Impr. (Abs. Top) %       494 non-null    float64\n",
      " 9   Impr. (Top) %            494 non-null    float64\n",
      " 10  Conversions              494 non-null    float64\n",
      " 11  View-through conv.       494 non-null    int64  \n",
      " 12  Cost / conv.             494 non-null    float64\n",
      " 13  Conv. rate               494 non-null    float64\n",
      " 14  Search Impr. share       250 non-null    float64\n",
      " 15  Search Lost IS (budget)  250 non-null    float64\n",
      " 16  Search Lost IS (rank)    250 non-null    float64\n",
      "dtypes: float64(13), int64(2), object(2)\n",
      "memory usage: 65.7+ KB\n"
     ]
    }
   ],
   "source": [
    "Camp_Pref.info()"
   ]
  },
  {
   "cell_type": "code",
   "execution_count": 10,
   "metadata": {},
   "outputs": [],
   "source": [
    "Camp_Pref['Week']= Camp_Pref['Week'].astype('str').str.lstrip(' Week of ')\n",
    "Camp_Pref['Week'] = pd.to_datetime(Camp_Pref['Week']).dt.strftime('%Y-%m')"
   ]
  },
  {
   "cell_type": "code",
   "execution_count": 11,
   "metadata": {},
   "outputs": [],
   "source": [
    "# Creating a pivot table with multi-index of Campaign's ID and the date\n",
    "    \n",
    "Preformance_pivot1 = pd.pivot_table(data = Camp_Pref, index= ['Campaign ID','Week'], \n",
    "                                  values = ['Clicks', 'Impressions','Cost','Conversions', 'View-through conv.'],\n",
    "                                  aggfunc=np.sum)"
   ]
  },
  {
   "cell_type": "code",
   "execution_count": 12,
   "metadata": {
    "scrolled": true
   },
   "outputs": [],
   "source": [
    "Preformance_pivot1['total conv.'] = Preformance_pivot1['Conversions']+ Preformance_pivot1['View-through conv.']"
   ]
  },
  {
   "cell_type": "code",
   "execution_count": 13,
   "metadata": {},
   "outputs": [],
   "source": [
    "# Creating a summary to each columns with sum function, please note in the next command line the summary line won't\n",
    "# contain only sum but the folllowing calculations as well\n",
    "Preformance_pivot1 = pd.concat([d.append(d.sum().rename((k, 'Summary'))) for k, d in Preformance_pivot1.groupby(level=0)])"
   ]
  },
  {
   "cell_type": "code",
   "execution_count": 14,
   "metadata": {},
   "outputs": [],
   "source": [
    "Preformance_pivot1['CTR'] = (Preformance_pivot1['Clicks']/Preformance_pivot1['Impressions'])*100\n",
    "Preformance_pivot1['Avg. CPC'] = Preformance_pivot1['Cost']/Preformance_pivot1['Clicks']\n",
    "Preformance_pivot1['Cost / conv.'] = Preformance_pivot1['Cost']/Preformance_pivot1['total conv.']\n",
    "Preformance_pivot1['Conv. rate'] = (Preformance_pivot1['total conv.']/Preformance_pivot1['Clicks'])*100"
   ]
  },
  {
   "cell_type": "code",
   "execution_count": 15,
   "metadata": {},
   "outputs": [],
   "source": [
    "column_order = ['Cost', 'Impressions', 'Clicks', 'Conversions', 'View-through conv.', 'total conv.',\n",
    "               'CTR',  'Conv. rate', 'Avg. CPC', 'Cost / conv.']\n",
    "Preformance_pivot1 = Preformance_pivot1.reindex(column_order, axis=1)\n",
    "total_sum = Preformance_pivot1.loc[(slice(None), 'Summary'), :]"
   ]
  },
  {
   "cell_type": "code",
   "execution_count": 16,
   "metadata": {},
   "outputs": [
    {
     "name": "stdout",
     "output_type": "stream",
     "text": [
      "CTR\n",
      "median - 0.9603787336416348\n",
      "mean - 2.8731684854605812\n",
      "max - 45.78675321553071\n",
      "\n",
      "Conv. rate\n",
      "median - 0.07329821417268612\n",
      "mean - 4.024035585233939\n",
      "max - 257.14285714285717\n",
      "\n",
      "total conv.\n",
      "median - 0.825\n",
      "mean - 69.72568421052632\n",
      "max - 3710.25\n",
      "\n",
      "Avg. CPC\n",
      "median - 0.7020564516129032\n",
      "mean - inf\n",
      "max - inf\n",
      "\n",
      "Cost / conv.\n",
      "median - 488.0633333333334\n",
      "mean - inf\n",
      "max - inf\n",
      "\n"
     ]
    }
   ],
   "source": [
    "for x in ['CTR','Conv. rate','total conv.','Avg. CPC', 'Cost / conv.']:\n",
    "    print (x)\n",
    "    print (\"median - \" + str(total_sum[x].median()) )\n",
    "    print (\"mean - \" + str(total_sum[x].mean()) )\n",
    "    print (\"max - \" + str(total_sum[x].max()) )\n",
    "    print ('')\n",
    "   "
   ]
  },
  {
   "cell_type": "code",
   "execution_count": 17,
   "metadata": {},
   "outputs": [],
   "source": [
    "# Calculating most profitable campaigns using total Conv. metric and cost/conv. # "
   ]
  },
  {
   "cell_type": "code",
   "execution_count": 18,
   "metadata": {
    "scrolled": true
   },
   "outputs": [
    {
     "name": "stderr",
     "output_type": "stream",
     "text": [
      "<ipython-input-18-f439c0a59c7d>:3: UserWarning: Boolean Series key will be reindexed to match DataFrame index.\n",
      "  total_sum_top = total_sum_top[total_sum['Cost / conv.']<=100]\n"
     ]
    },
    {
     "data": {
      "text/html": [
       "<div>\n",
       "<style scoped>\n",
       "    .dataframe tbody tr th:only-of-type {\n",
       "        vertical-align: middle;\n",
       "    }\n",
       "\n",
       "    .dataframe tbody tr th {\n",
       "        vertical-align: top;\n",
       "    }\n",
       "\n",
       "    .dataframe thead th {\n",
       "        text-align: right;\n",
       "    }\n",
       "</style>\n",
       "<table border=\"1\" class=\"dataframe\">\n",
       "  <thead>\n",
       "    <tr style=\"text-align: right;\">\n",
       "      <th></th>\n",
       "      <th></th>\n",
       "      <th>Cost</th>\n",
       "      <th>Conversions</th>\n",
       "      <th>View-through conv.</th>\n",
       "      <th>total conv.</th>\n",
       "      <th>CTR</th>\n",
       "      <th>Conv. rate</th>\n",
       "      <th>Avg. CPC</th>\n",
       "      <th>Cost / conv.</th>\n",
       "    </tr>\n",
       "    <tr>\n",
       "      <th>Campaign ID</th>\n",
       "      <th>Week</th>\n",
       "      <th></th>\n",
       "      <th></th>\n",
       "      <th></th>\n",
       "      <th></th>\n",
       "      <th></th>\n",
       "      <th></th>\n",
       "      <th></th>\n",
       "      <th></th>\n",
       "    </tr>\n",
       "  </thead>\n",
       "  <tbody>\n",
       "    <tr>\n",
       "      <th>10419629499</th>\n",
       "      <th>Summary</th>\n",
       "      <td>13241.48</td>\n",
       "      <td>3710.25</td>\n",
       "      <td>0.0</td>\n",
       "      <td>3710.25</td>\n",
       "      <td>12.816543</td>\n",
       "      <td>7.610145</td>\n",
       "      <td>0.271598</td>\n",
       "      <td>3.568892</td>\n",
       "    </tr>\n",
       "    <tr>\n",
       "      <th>11508644810</th>\n",
       "      <th>Summary</th>\n",
       "      <td>19183.86</td>\n",
       "      <td>151.00</td>\n",
       "      <td>2131.0</td>\n",
       "      <td>2282.00</td>\n",
       "      <td>1.074741</td>\n",
       "      <td>2.589768</td>\n",
       "      <td>0.217711</td>\n",
       "      <td>8.406599</td>\n",
       "    </tr>\n",
       "    <tr>\n",
       "      <th>11268506295</th>\n",
       "      <th>Summary</th>\n",
       "      <td>28349.94</td>\n",
       "      <td>129.00</td>\n",
       "      <td>1494.0</td>\n",
       "      <td>1623.00</td>\n",
       "      <td>0.560533</td>\n",
       "      <td>1.099795</td>\n",
       "      <td>0.192108</td>\n",
       "      <td>17.467616</td>\n",
       "    </tr>\n",
       "    <tr>\n",
       "      <th>11661592991</th>\n",
       "      <th>Summary</th>\n",
       "      <td>16616.09</td>\n",
       "      <td>141.00</td>\n",
       "      <td>1083.0</td>\n",
       "      <td>1224.00</td>\n",
       "      <td>0.157082</td>\n",
       "      <td>5.569712</td>\n",
       "      <td>0.756102</td>\n",
       "      <td>13.575237</td>\n",
       "    </tr>\n",
       "    <tr>\n",
       "      <th>11604736493</th>\n",
       "      <th>Summary</th>\n",
       "      <td>5740.98</td>\n",
       "      <td>78.00</td>\n",
       "      <td>723.0</td>\n",
       "      <td>801.00</td>\n",
       "      <td>0.955157</td>\n",
       "      <td>3.810113</td>\n",
       "      <td>0.273081</td>\n",
       "      <td>7.167266</td>\n",
       "    </tr>\n",
       "  </tbody>\n",
       "</table>\n",
       "</div>"
      ],
      "text/plain": [
       "                         Cost  Conversions  View-through conv.  total conv.  \\\n",
       "Campaign ID Week                                                              \n",
       "10419629499 Summary  13241.48      3710.25                 0.0      3710.25   \n",
       "11508644810 Summary  19183.86       151.00              2131.0      2282.00   \n",
       "11268506295 Summary  28349.94       129.00              1494.0      1623.00   \n",
       "11661592991 Summary  16616.09       141.00              1083.0      1224.00   \n",
       "11604736493 Summary   5740.98        78.00               723.0       801.00   \n",
       "\n",
       "                           CTR  Conv. rate  Avg. CPC  Cost / conv.  \n",
       "Campaign ID Week                                                    \n",
       "10419629499 Summary  12.816543    7.610145  0.271598      3.568892  \n",
       "11508644810 Summary   1.074741    2.589768  0.217711      8.406599  \n",
       "11268506295 Summary   0.560533    1.099795  0.192108     17.467616  \n",
       "11661592991 Summary   0.157082    5.569712  0.756102     13.575237  \n",
       "11604736493 Summary   0.955157    3.810113  0.273081      7.167266  "
      ]
     },
     "execution_count": 18,
     "metadata": {},
     "output_type": "execute_result"
    }
   ],
   "source": [
    "total_sum_top = total_sum[total_sum['total conv.']>=300]\n",
    "\n",
    "total_sum_top = total_sum_top[total_sum['Cost / conv.']<=100]\n",
    "\n",
    "total_sum_top = total_sum_top.sort_values(by=['total conv.'], ascending=False)\n",
    "total_sum_top = total_sum_top[['Cost' ,'Conversions', 'View-through conv.', 'total conv.','CTR', 'Conv. rate', 'Avg. CPC','Cost / conv.']]\n",
    "total_sum_top"
   ]
  },
  {
   "cell_type": "code",
   "execution_count": 19,
   "metadata": {},
   "outputs": [],
   "source": [
    "# New pivot table with Search impression and Search lost metrics\n",
    "\n",
    "Preformance_pivot2 = pd.pivot_table(data = Camp_Pref, index= ['Campaign ID','Week'], \n",
    "                                  values = ['Search Impr. share', 'Search Lost IS (budget)', 'Search Lost IS (rank)'],\n",
    "                                  aggfunc=np.average)\n",
    "# creating a subtotal with agg-fun - average\n",
    "Preformance_pivot2 = pd.concat([d.append(d.mean().rename((k, 'Average'))) for k, d in Preformance_pivot2.groupby(level=0)])\n",
    "total_avg = Preformance_pivot2.loc[(slice(None), 'Average'), :]"
   ]
  },
  {
   "cell_type": "code",
   "execution_count": 20,
   "metadata": {},
   "outputs": [
    {
     "name": "stdout",
     "output_type": "stream",
     "text": [
      "Search Impr. share avg - 44.65140003052503\n",
      "Search Lost IS (rank) avg- 52.314513888888904\n",
      "Search Lost IS (budget) avg- 3.2442539682539686\n"
     ]
    }
   ],
   "source": [
    "print ('Search Impr. share avg - ' + str(total_avg['Search Impr. share'].mean()))\n",
    "print ('Search Lost IS (rank) avg- ' + str(total_avg['Search Lost IS (rank)'].mean()))\n",
    "print ('Search Lost IS (budget) avg- ' + str(total_avg['Search Lost IS (budget)'].mean()))"
   ]
  },
  {
   "cell_type": "code",
   "execution_count": 21,
   "metadata": {
    "scrolled": true
   },
   "outputs": [
    {
     "data": {
      "text/html": [
       "<div>\n",
       "<style scoped>\n",
       "    .dataframe tbody tr th:only-of-type {\n",
       "        vertical-align: middle;\n",
       "    }\n",
       "\n",
       "    .dataframe tbody tr th {\n",
       "        vertical-align: top;\n",
       "    }\n",
       "\n",
       "    .dataframe thead th {\n",
       "        text-align: right;\n",
       "    }\n",
       "</style>\n",
       "<table border=\"1\" class=\"dataframe\">\n",
       "  <thead>\n",
       "    <tr style=\"text-align: right;\">\n",
       "      <th></th>\n",
       "      <th>Cost</th>\n",
       "      <th>Conversions</th>\n",
       "      <th>View-through conv.</th>\n",
       "      <th>total conv.</th>\n",
       "      <th>CTR</th>\n",
       "      <th>Conv. rate</th>\n",
       "      <th>Avg. CPC</th>\n",
       "      <th>Cost / conv.</th>\n",
       "      <th>Search Impr. share</th>\n",
       "      <th>Search Lost IS (budget)</th>\n",
       "      <th>Search Lost IS (rank)</th>\n",
       "    </tr>\n",
       "    <tr>\n",
       "      <th>Campaign ID</th>\n",
       "      <th></th>\n",
       "      <th></th>\n",
       "      <th></th>\n",
       "      <th></th>\n",
       "      <th></th>\n",
       "      <th></th>\n",
       "      <th></th>\n",
       "      <th></th>\n",
       "      <th></th>\n",
       "      <th></th>\n",
       "      <th></th>\n",
       "    </tr>\n",
       "  </thead>\n",
       "  <tbody>\n",
       "    <tr>\n",
       "      <th>10419629499</th>\n",
       "      <td>13241.48</td>\n",
       "      <td>3710.25</td>\n",
       "      <td>0.0</td>\n",
       "      <td>3710.25</td>\n",
       "      <td>12.816543</td>\n",
       "      <td>7.610145</td>\n",
       "      <td>0.271598</td>\n",
       "      <td>3.568892</td>\n",
       "      <td>25.775</td>\n",
       "      <td>0.855</td>\n",
       "      <td>73.37</td>\n",
       "    </tr>\n",
       "    <tr>\n",
       "      <th>11508644810</th>\n",
       "      <td>19183.86</td>\n",
       "      <td>151.00</td>\n",
       "      <td>2131.0</td>\n",
       "      <td>2282.00</td>\n",
       "      <td>1.074741</td>\n",
       "      <td>2.589768</td>\n",
       "      <td>0.217711</td>\n",
       "      <td>8.406599</td>\n",
       "      <td>NaN</td>\n",
       "      <td>NaN</td>\n",
       "      <td>NaN</td>\n",
       "    </tr>\n",
       "    <tr>\n",
       "      <th>11268506295</th>\n",
       "      <td>28349.94</td>\n",
       "      <td>129.00</td>\n",
       "      <td>1494.0</td>\n",
       "      <td>1623.00</td>\n",
       "      <td>0.560533</td>\n",
       "      <td>1.099795</td>\n",
       "      <td>0.192108</td>\n",
       "      <td>17.467616</td>\n",
       "      <td>NaN</td>\n",
       "      <td>NaN</td>\n",
       "      <td>NaN</td>\n",
       "    </tr>\n",
       "    <tr>\n",
       "      <th>11661592991</th>\n",
       "      <td>16616.09</td>\n",
       "      <td>141.00</td>\n",
       "      <td>1083.0</td>\n",
       "      <td>1224.00</td>\n",
       "      <td>0.157082</td>\n",
       "      <td>5.569712</td>\n",
       "      <td>0.756102</td>\n",
       "      <td>13.575237</td>\n",
       "      <td>NaN</td>\n",
       "      <td>NaN</td>\n",
       "      <td>NaN</td>\n",
       "    </tr>\n",
       "    <tr>\n",
       "      <th>11604736493</th>\n",
       "      <td>5740.98</td>\n",
       "      <td>78.00</td>\n",
       "      <td>723.0</td>\n",
       "      <td>801.00</td>\n",
       "      <td>0.955157</td>\n",
       "      <td>3.810113</td>\n",
       "      <td>0.273081</td>\n",
       "      <td>7.167266</td>\n",
       "      <td>NaN</td>\n",
       "      <td>NaN</td>\n",
       "      <td>NaN</td>\n",
       "    </tr>\n",
       "  </tbody>\n",
       "</table>\n",
       "</div>"
      ],
      "text/plain": [
       "                 Cost  Conversions  View-through conv.  total conv.  \\\n",
       "Campaign ID                                                           \n",
       "10419629499  13241.48      3710.25                 0.0      3710.25   \n",
       "11508644810  19183.86       151.00              2131.0      2282.00   \n",
       "11268506295  28349.94       129.00              1494.0      1623.00   \n",
       "11661592991  16616.09       141.00              1083.0      1224.00   \n",
       "11604736493   5740.98        78.00               723.0       801.00   \n",
       "\n",
       "                   CTR  Conv. rate  Avg. CPC  Cost / conv.  \\\n",
       "Campaign ID                                                  \n",
       "10419629499  12.816543    7.610145  0.271598      3.568892   \n",
       "11508644810   1.074741    2.589768  0.217711      8.406599   \n",
       "11268506295   0.560533    1.099795  0.192108     17.467616   \n",
       "11661592991   0.157082    5.569712  0.756102     13.575237   \n",
       "11604736493   0.955157    3.810113  0.273081      7.167266   \n",
       "\n",
       "             Search Impr. share  Search Lost IS (budget)  \\\n",
       "Campaign ID                                                \n",
       "10419629499              25.775                    0.855   \n",
       "11508644810                 NaN                      NaN   \n",
       "11268506295                 NaN                      NaN   \n",
       "11661592991                 NaN                      NaN   \n",
       "11604736493                 NaN                      NaN   \n",
       "\n",
       "             Search Lost IS (rank)  \n",
       "Campaign ID                         \n",
       "10419629499                  73.37  \n",
       "11508644810                    NaN  \n",
       "11268506295                    NaN  \n",
       "11661592991                    NaN  \n",
       "11604736493                    NaN  "
      ]
     },
     "execution_count": 21,
     "metadata": {},
     "output_type": "execute_result"
    }
   ],
   "source": [
    "merged_top = total_sum_top.merge(total_avg, 'left', on =['Campaign ID'], left_index=True )\n",
    "merged_top"
   ]
  },
  {
   "cell_type": "code",
   "execution_count": 22,
   "metadata": {},
   "outputs": [
    {
     "data": {
      "text/plain": [
       "[10419629499, 11508644810, 11268506295, 11661592991, 11604736493]"
      ]
     },
     "execution_count": 22,
     "metadata": {},
     "output_type": "execute_result"
    }
   ],
   "source": [
    "Campaign_id = list(merged_top.index)\n",
    "Campaign_id"
   ]
  },
  {
   "cell_type": "code",
   "execution_count": 23,
   "metadata": {
    "scrolled": true
   },
   "outputs": [
    {
     "data": {
      "text/html": [
       "<div>\n",
       "<style scoped>\n",
       "    .dataframe tbody tr th:only-of-type {\n",
       "        vertical-align: middle;\n",
       "    }\n",
       "\n",
       "    .dataframe tbody tr th {\n",
       "        vertical-align: top;\n",
       "    }\n",
       "\n",
       "    .dataframe thead th {\n",
       "        text-align: right;\n",
       "    }\n",
       "</style>\n",
       "<table border=\"1\" class=\"dataframe\">\n",
       "  <thead>\n",
       "    <tr style=\"text-align: right;\">\n",
       "      <th></th>\n",
       "      <th>Campaign</th>\n",
       "      <th>Campaign ID</th>\n",
       "    </tr>\n",
       "  </thead>\n",
       "  <tbody>\n",
       "    <tr>\n",
       "      <th>2</th>\n",
       "      <td>GM - REM1 - NA #QA V2</td>\n",
       "      <td>11268506295</td>\n",
       "    </tr>\n",
       "    <tr>\n",
       "      <th>49</th>\n",
       "      <td>Smart Global - TOP COUNTRY  1 #QA WL V1 מעקב צמוד</td>\n",
       "      <td>11661592991</td>\n",
       "    </tr>\n",
       "    <tr>\n",
       "      <th>102</th>\n",
       "      <td>Discovery - REM - Global #QA V1 RG1</td>\n",
       "      <td>11508644810</td>\n",
       "    </tr>\n",
       "    <tr>\n",
       "      <th>115</th>\n",
       "      <td>Global - Branded #QA</td>\n",
       "      <td>10419629499</td>\n",
       "    </tr>\n",
       "    <tr>\n",
       "      <th>117</th>\n",
       "      <td>Discovery - REM - Global #QA V1 RG2 תקין</td>\n",
       "      <td>11604736493</td>\n",
       "    </tr>\n",
       "  </tbody>\n",
       "</table>\n",
       "</div>"
      ],
      "text/plain": [
       "                                              Campaign  Campaign ID\n",
       "2                                GM - REM1 - NA #QA V2  11268506295\n",
       "49   Smart Global - TOP COUNTRY  1 #QA WL V1 מעקב צמוד  11661592991\n",
       "102                Discovery - REM - Global #QA V1 RG1  11508644810\n",
       "115                               Global - Branded #QA  10419629499\n",
       "117           Discovery - REM - Global #QA V1 RG2 תקין  11604736493"
      ]
     },
     "execution_count": 23,
     "metadata": {},
     "output_type": "execute_result"
    }
   ],
   "source": [
    "# Extracting the names and ID's of top profitable campaigns\n",
    "Campaign_name_id = Camp_Pref[['Campaign', 'Campaign ID']].drop_duplicates()\n",
    "Campaign_name_id = Campaign_name_id[Campaign_name_id['Campaign ID'].isin(Campaign_id)]\n",
    "top_campaign = list(Campaign_name_id['Campaign'])\n",
    "Campaign_name_id"
   ]
  }
 ],
 "metadata": {
  "kernelspec": {
   "display_name": "Python 3",
   "language": "python",
   "name": "python3"
  },
  "language_info": {
   "codemirror_mode": {
    "name": "ipython",
    "version": 3
   },
   "file_extension": ".py",
   "mimetype": "text/x-python",
   "name": "python",
   "nbconvert_exporter": "python",
   "pygments_lexer": "ipython3",
   "version": "3.8.3"
  }
 },
 "nbformat": 4,
 "nbformat_minor": 4
}
