{
 "cells": [
  {
   "cell_type": "markdown",
   "id": "65a82acc",
   "metadata": {},
   "source": [
    "## Sentiment Analysis \n",
    "\n",
    "### Given a csv file of reviews, Create a module to predict a binary sentiment (positive 1, negative 0)\n",
    "\n",
    "#### This task will we executed using OOP with Keras (TensorFlow), Sklearn, Pandas and Numpy\n",
    "\n"
   ]
  },
  {
   "cell_type": "code",
   "execution_count": 1,
   "id": "2d370100",
   "metadata": {},
   "outputs": [],
   "source": [
    "import numpy as np \n",
    "import pandas as pd \n",
    "import matplotlib.pyplot as plt \n",
    "import seaborn as sns \n",
    "\n",
    "import nltk\n",
    "stopwords = nltk.corpus.stopwords.words('english')\n",
    "\n",
    "#Initialize Stemm cleaner and Lemmatizer for future text analysis and processing for RNN model\n",
    "from nltk.stem import PorterStemmer, WordNetLemmatizer\n",
    "stemmer = PorterStemmer()\n",
    "lemmatizer = WordNetLemmatizer()\n",
    "\n",
    "from textblob import TextBlob, Word, Blobber\n",
    "\n",
    "import tensorflow as tf \n",
    "from tensorflow.keras.preprocessing.text import Tokenizer\n",
    "from tensorflow.keras.preprocessing.sequence import pad_sequences\n",
    "\n",
    "from tensorflow.keras.wrappers.scikit_learn import KerasClassifier\n",
    "from sklearn.model_selection import GridSearchCV\n",
    "tf.random.set_seed(42)\n",
    "\n",
    "from random import choice\n",
    "\n",
    "\n",
    "%matplotlib inline "
   ]
  },
  {
   "cell_type": "code",
   "execution_count": 3,
   "id": "4d9ef7ef",
   "metadata": {},
   "outputs": [
    {
     "data": {
      "text/html": [
       "<div>\n",
       "<style scoped>\n",
       "    .dataframe tbody tr th:only-of-type {\n",
       "        vertical-align: middle;\n",
       "    }\n",
       "\n",
       "    .dataframe tbody tr th {\n",
       "        vertical-align: top;\n",
       "    }\n",
       "\n",
       "    .dataframe thead th {\n",
       "        text-align: right;\n",
       "    }\n",
       "</style>\n",
       "<table border=\"1\" class=\"dataframe\">\n",
       "  <thead>\n",
       "    <tr style=\"text-align: right;\">\n",
       "      <th></th>\n",
       "      <th>review</th>\n",
       "      <th>sentiment</th>\n",
       "    </tr>\n",
       "  </thead>\n",
       "  <tbody>\n",
       "    <tr>\n",
       "      <th>0</th>\n",
       "      <td>Love the staff, love the meat, love the place. Prepare for a long line around lunch or dinner hours. \\n\\nThey ask you how you want you meat, lean or something maybe, I can't remember. Just say you don't want it too fatty. \\n\\nGet a half sour pickle and a hot pepper. Hand cut french fries too.</td>\n",
       "      <td>1</td>\n",
       "    </tr>\n",
       "    <tr>\n",
       "      <th>1</th>\n",
       "      <td>Super simple place but amazing nonetheless. It's been around since the 30's and they still serve the same thing they started with: a bologna and salami sandwich with mustard. \\n\\nStaff was very helpful and friendly.</td>\n",
       "      <td>1</td>\n",
       "    </tr>\n",
       "    <tr>\n",
       "      <th>2</th>\n",
       "      <td>Small unassuming place that changes their menu every so often. Cool decor and vibe inside their 30 seat restaurant. Call for a reservation. \\n\\nWe had their beef tartar and pork belly to start and a salmon dish and lamb meal for mains. Everything was incredible! I could go on at length about how all the listed ingredients really make their dishes amazing but honestly you just need to go. \\n\\nA bit outside of downtown montreal but take the metro out and it's less than a 10 minute walk from the station.</td>\n",
       "      <td>1</td>\n",
       "    </tr>\n",
       "    <tr>\n",
       "      <th>3</th>\n",
       "      <td>Lester's is located in a beautiful neighborhood and has been there since 1951. They are known for smoked meat which most deli's have but their brisket sandwich is what I come to montreal for. They've got about 12 seats outside to go along with the inside. \\n\\nThe smoked meat is up there in quality and taste with Schwartz's and you'll find less tourists at Lester's as well.</td>\n",
       "      <td>1</td>\n",
       "    </tr>\n",
       "  </tbody>\n",
       "</table>\n",
       "</div>"
      ],
      "text/plain": [
       "                                                                                                                                                                                                                                                                                                                                                                                                                                                                                                                       review  \\\n",
       "0                                                                                                                                                                                                                       Love the staff, love the meat, love the place. Prepare for a long line around lunch or dinner hours. \\n\\nThey ask you how you want you meat, lean or something maybe, I can't remember. Just say you don't want it too fatty. \\n\\nGet a half sour pickle and a hot pepper. Hand cut french fries too.   \n",
       "1                                                                                                                                                                                                                                                                                                     Super simple place but amazing nonetheless. It's been around since the 30's and they still serve the same thing they started with: a bologna and salami sandwich with mustard. \\n\\nStaff was very helpful and friendly.   \n",
       "2  Small unassuming place that changes their menu every so often. Cool decor and vibe inside their 30 seat restaurant. Call for a reservation. \\n\\nWe had their beef tartar and pork belly to start and a salmon dish and lamb meal for mains. Everything was incredible! I could go on at length about how all the listed ingredients really make their dishes amazing but honestly you just need to go. \\n\\nA bit outside of downtown montreal but take the metro out and it's less than a 10 minute walk from the station.   \n",
       "3                                                                                                                                     Lester's is located in a beautiful neighborhood and has been there since 1951. They are known for smoked meat which most deli's have but their brisket sandwich is what I come to montreal for. They've got about 12 seats outside to go along with the inside. \\n\\nThe smoked meat is up there in quality and taste with Schwartz's and you'll find less tourists at Lester's as well.   \n",
       "\n",
       "   sentiment  \n",
       "0          1  \n",
       "1          1  \n",
       "2          1  \n",
       "3          1  "
      ]
     },
     "metadata": {},
     "output_type": "display_data"
    }
   ],
   "source": [
    "df_reviews = pd.read_csv('reviews.csv', )\n",
    "\n",
    "with pd.option_context('display.max_colwidth', None):\n",
    "    display(df_reviews.head(4))"
   ]
  },
  {
   "cell_type": "markdown",
   "id": "3bf71f91",
   "metadata": {},
   "source": [
    "This are Resturant recommendations (ans some noise - not relevant reviews, comments, as well German ahd Chinese reviews (who should be translated or removed in the future analysis and preperations)"
   ]
  },
  {
   "cell_type": "markdown",
   "id": "d317afb0",
   "metadata": {},
   "source": [
    "## OOP Classes for future code and Train/val/Test split function"
   ]
  },
  {
   "cell_type": "markdown",
   "id": "68a02ab5",
   "metadata": {},
   "source": [
    "### 1) Preprocessing\n",
    "This class input is pandas DataFram with reviews (text) to preprocess:\n",
    "a) lower all capitalized words and remove punctuation, new line marks and numbers\n",
    "\n",
    "b) convert test strings to a list of words \n",
    "\n",
    "c) remove stop swords and lammatize the words (keep the meaning and find the root of the different words in text) \n",
    "\n",
    "     * Different approach will be stemming the words (with the risk of loosing meaning and by that important data) \n"
   ]
  },
  {
   "cell_type": "code",
   "execution_count": 4,
   "id": "cf4c6395",
   "metadata": {},
   "outputs": [],
   "source": [
    "class Preprocessor():\n",
    "    \n",
    "    def __init__(self, X, y):\n",
    "        self.x = X\n",
    "        self.y = y.to_numpy()\n",
    "        \n",
    "    def Process(self):    \n",
    "        self.x = self.x.apply(lambda x: x.lower())                                             # lowering strings\n",
    "        self.x = self.x.str.replace('[^\\w\\s]', \"\", regex = True)                               # removing punctuation \n",
    "        self.x = self.x.str.replace(r'\\\\n',' ', regex=True)                                    # removing newline \n",
    "        self.x = self.x.str.replace(r'\\\\t',' ', regex=True)                                    \n",
    "        self.x = self.x.apply(lambda x: ''.join([i for i in x if not i.isdigit()]))            # removing numbers \n",
    "        self.x = self.x.apply(lambda x: x.split())                                             # text to list \n",
    "        self.x = self.x.apply(lambda x: [item for item in x if item not in stopwords])         # removing stopwords\n",
    "        self.x = self.x.apply(lambda x: [lemmatizer.lemmatize(word) for word in x])            # Lemmatizing\n",
    "        \n",
    "        return self.x, self.y\n",
    "    \n",
    "    def to_list(self):\n",
    "        return self.x.tolist(), self.y.tolist()"
   ]
  },
  {
   "cell_type": "markdown",
   "id": "9cc6730e",
   "metadata": {},
   "source": [
    "### 2) Vectorization\n",
    "Using tensorflow Tokenizer, the vector presentation of our comments will be unique numbers, even though this method creates\n",
    "a problem regardig the similarities and 'distasnces' between the words, the sequential network will include an embadding layet\n",
    "to overcome this gap"
   ]
  },
  {
   "cell_type": "code",
   "execution_count": 5,
   "id": "0da66588",
   "metadata": {},
   "outputs": [],
   "source": [
    "def vectorization_pad(data, max_len=500):\n",
    "    data = data\n",
    "    tokenizer = Tokenizer(num_words=5000)\n",
    "    tokenizer.fit_on_texts(data.tolist())\n",
    "    vocab_size = len(tokenizer.word_index) + 1\n",
    "\n",
    "    encoded_txt = tokenizer.texts_to_sequences(data.tolist())\n",
    "\n",
    "    padded_sequence = pad_sequences(encoded_txt, maxlen = max_len)\n",
    "    \n",
    "    return vocab_size, padded_sequence"
   ]
  },
  {
   "cell_type": "markdown",
   "id": "106441c6",
   "metadata": {},
   "source": [
    "### 3) TrainValidTestSplit"
   ]
  },
  {
   "cell_type": "code",
   "execution_count": 6,
   "id": "e2ed1ba0",
   "metadata": {},
   "outputs": [],
   "source": [
    "from sklearn.model_selection import train_test_split\n",
    "\n",
    "def trainValidTestSplit(X, y):\n",
    "    '''\n",
    "    X, y inputs in a list/array type\n",
    "    print function is to make sure the labels are balanced through train, validation and test, to avoid underfitting.\n",
    "    '''\n",
    "    \n",
    "    X_train, X_test, y_train, y_test  = train_test_split(X, y, test_size=0.2, random_state=1)\n",
    "    X_train, X_val, y_train, y_val = train_test_split(X_train, y_train, test_size=0.25, random_state=1)\n",
    "    \n",
    "    print(\"Train set shape is: {}, with {} obsv labeld 0, {} obsv labeld 1\".format(X_train.shape, \n",
    "                                                                             np.unique(y_train, return_counts= True)[1][0],\n",
    "                                                                            np.unique(y_train, return_counts= True)[1][1]))\n",
    "    \n",
    "    print(\"Validation set shape is: {}, with {} obsv labeld 0, {} obsv labeld 1\".format(X_val.shape, \n",
    "                                                                             np.unique(y_val, return_counts= True)[1][0],\n",
    "                                                                            np.unique(y_val, return_counts= True)[1][1]))\n",
    "    \n",
    "    print(\"Test set shape is: {}, with {} obsv labeld 0, {} obsv labeld 1\".format(X_test.shape, \n",
    "                                                                             np.unique(y_test, return_counts= True)[1][0],\n",
    "                                                                            np.unique(y_test, return_counts= True)[1][1]))\n",
    "\n",
    "    return X_train, X_val, X_test, y_train, y_val, y_test"
   ]
  },
  {
   "cell_type": "markdown",
   "id": "6ee45f75",
   "metadata": {},
   "source": [
    "### 4) RNN Model "
   ]
  },
  {
   "cell_type": "code",
   "execution_count": 7,
   "id": "bd63e8dc",
   "metadata": {},
   "outputs": [],
   "source": [
    "class MySequential(tf.keras.Model):\n",
    "    '''\n",
    "        Embedding Layer inputs\n",
    "    vocab size (int): size of the input layer, determined by the vectorization step.\n",
    "    embed_vector (int): output layer size, the dimension of embedded information (Hyperparameter)\n",
    "    '''\n",
    "    \n",
    "    def __init__(self, vocab_size, embed_vector = 32, dropout1D = 0.25, dropout2 = 0.2):\n",
    "        super(MySequential, self).__init__()\n",
    "        \n",
    "        self.embadding = tf.keras.layers.Embedding(input_dim = vocab_size, output_dim = embed_vector, input_length=200)\n",
    "        self.spatialdrop = tf.keras.layers.SpatialDropout1D(dropout1D)\n",
    "        self.lstm1 =  tf.keras.layers.LSTM(50, dropout=0.5, recurrent_dropout=0.5)\n",
    "        self.dropout = tf.keras.layers.Dropout(dropout2)\n",
    "        self.dense1 = tf.keras.layers.Dense(units = 1, activation='sigmoid')\n",
    "\n",
    "        \n",
    "    def __call__(self, inputs, training=False):\n",
    "        x = self.embadding(inputs)\n",
    "        x = self.spatialdrop(x)\n",
    "        x = self.lstm1(x)\n",
    "        x = self.dropout(x)\n",
    "        \n",
    "        return self.dense1(x)"
   ]
  },
  {
   "cell_type": "markdown",
   "id": "78ab4178",
   "metadata": {},
   "source": [
    "### 5) Hyperparameter tuning"
   ]
  },
  {
   "cell_type": "code",
   "execution_count": 8,
   "id": "0ddbef01",
   "metadata": {},
   "outputs": [],
   "source": [
    "'''\n",
    "        Hyperparametrs to tune are:\n",
    "- embed_vector: this parameter determines the vector length for the first layer and describes similarity scores between\n",
    "                all words in the Tokenized dictionary, increasing and decreasing this value can change the model accuracy. \n",
    "- epochs: number of times the whole training set is beeing fed to the RNN \n",
    "- batch_size\n",
    "- dropout parameter 1D: precentage of neurons to shut-down on first  1D dropout layer\n",
    "- dropout2: precentage of neurons to shut-down on 2nd neurons layer\n",
    "- loss: addionalty to creating a customized with regullization over weights and combining different types of weighted - losses,\n",
    "    compiling the model over different loss function to analyse model preformences over them.\n",
    "    \n",
    "    \n",
    "        Additional Hyperparameters: \n",
    "- #layers\n",
    "- Weight initalizer  (embeddings_initializer)\n",
    "- Learning rate\n",
    "'''\n",
    "\n",
    "class HyperparameterTuner_Randomized():\n",
    "    \n",
    "    '''\n",
    "        Input Param_grid (dictionary) parameters:\n",
    "    - embed_vector\n",
    "    - dropout_param1D\n",
    "    - dropout_param\n",
    "    - epochs\n",
    "    - batch_sizewe\n",
    "    - optimizer\n",
    "    \n",
    "    -n_iter - number of samples to search in RandomSearch\n",
    "    \n",
    "        Class Atributes:\n",
    "    - parameters - Best parameters in random search from a given grid\n",
    "    - loss - Best loss values\n",
    "    - accuracy, val_accuracy - Accuracy and validation acc achieved from best loss \n",
    "\n",
    "    '''\n",
    "    \n",
    "    def __init__(self, param_grid, vocab_size, X_train, Y_train, X_valid, Y_valid, n_iter=10):\n",
    "        \n",
    "        self.voc_size = vocab_size\n",
    "        self.grid = param_grid\n",
    "        \n",
    "        self.parameters = {}\n",
    "        self.accuracy = 0\n",
    "        self.loss = 1e3\n",
    "        self.loss_prev = 1e3\n",
    "\n",
    "        for i in range(n_iter):\n",
    "            \n",
    "            embed_vec = choice(list(self.grid.get('embed_vector')))\n",
    "            dropout1D_param = choice(list(self.grid.get('dropout_param1D')))\n",
    "            dropout_p2 = choice(list(self.grid.get('dropout_param')))\n",
    "            opt = choice(list(self.grid.get('optimizer')))\n",
    "            batch = choice(list(self.grid.get('batch_size')))\n",
    "            epochs = choice(list(self.grid.get('epochs')))\n",
    "            \n",
    "            print(\"\"\" Iteration #{},\n",
    "            The chosen parameters are:\n",
    "            Embed_vector:                    {},\n",
    "            Dropout:                    {}, {},\n",
    "            Optimizer:                       {},\n",
    "            Batch & Epoch:              {}, {}\n",
    "            \"\"\".format(i+1,\n",
    "            embed_vec, dropout1D_param, dropout_p2, opt, batch, epochs))\n",
    "            \n",
    "            model = MySequential(self.voc_size, embed_vector = embed_vec, dropout1D=dropout1D_param, dropout2=dropout_p2)\n",
    "            model.compile(loss='binary_crossentropy', optimizer= opt, metrics=['accuracy'])\n",
    "            history = model.fit(X_train, Y_train, validation_data = (X_valid, Y_valid), batch_size=batch, epochs =epochs,\n",
    "                                verbose = 0) \n",
    "            \n",
    "            loss = history.history['loss'][-1]\n",
    "            \n",
    "            if loss < self.loss_prev:\n",
    "                self.loss = loss\n",
    "                self.loss_prev = loss\n",
    "                \n",
    "                self.parameters = {\n",
    "                    'embed_vector':embed_vec,\n",
    "                    'dropout_param1D':dropout1D_param,\n",
    "                    'dropout_1param':dropout_p2,\n",
    "                    'optimizer': opt,\n",
    "                    'batch_size': batch,\n",
    "                    'epochs': epochs\n",
    "                }\n",
    "                \n",
    "                self.accuracy =  history.history['accuracy'][-1]\n",
    "                self.val_accuracy = history.history['val_accuracy'][-1]\n",
    "                \n",
    "            print('sample #{} is done, {} samples left'.format(i+1, n_iter-(i+1)))\n",
    "            print('current accuracy is {}'.format(self.accuracy))\n",
    "            print('- - - - - - - - - - - - - - - - - - - - - -')\n",
    "                        \n",
    "\n",
    "        print('Tuner is done')\n"
   ]
  },
  {
   "cell_type": "markdown",
   "id": "934c52b6",
   "metadata": {},
   "source": [
    "## EDA - Exploratery Data Analysis \n",
    "\n",
    "Unerstand the data"
   ]
  },
  {
   "cell_type": "code",
   "execution_count": 9,
   "id": "59e264f3",
   "metadata": {},
   "outputs": [],
   "source": [
    "pro = Preprocessor(df_reviews['review'], df_reviews['sentiment'])\n",
    "data, target = pro.Process()"
   ]
  },
  {
   "cell_type": "code",
   "execution_count": 10,
   "id": "83217661",
   "metadata": {
    "scrolled": true
   },
   "outputs": [
    {
     "data": {
      "text/plain": [
       "(60000, 2)"
      ]
     },
     "execution_count": 10,
     "metadata": {},
     "output_type": "execute_result"
    }
   ],
   "source": [
    "df_reviews.shape"
   ]
  },
  {
   "cell_type": "markdown",
   "id": "5df21095",
   "metadata": {},
   "source": [
    "Number of observations is 60,000"
   ]
  },
  {
   "cell_type": "code",
   "execution_count": 11,
   "id": "429610d7",
   "metadata": {},
   "outputs": [
    {
     "data": {
      "text/plain": [
       "1    30000\n",
       "0    30000\n",
       "Name: sentiment, dtype: int64"
      ]
     },
     "execution_count": 11,
     "metadata": {},
     "output_type": "execute_result"
    }
   ],
   "source": [
    "df_reviews['sentiment'].value_counts()"
   ]
  },
  {
   "cell_type": "markdown",
   "id": "abbfca4d",
   "metadata": {},
   "source": [
    "Balanced Data set with 30,000 positive (1) reviews and 30,000 (0) negative reviews "
   ]
  },
  {
   "cell_type": "code",
   "execution_count": 12,
   "id": "0383e5fe",
   "metadata": {},
   "outputs": [
    {
     "data": {
      "text/html": [
       "<div>\n",
       "<style scoped>\n",
       "    .dataframe tbody tr th:only-of-type {\n",
       "        vertical-align: middle;\n",
       "    }\n",
       "\n",
       "    .dataframe tbody tr th {\n",
       "        vertical-align: top;\n",
       "    }\n",
       "\n",
       "    .dataframe thead th {\n",
       "        text-align: right;\n",
       "    }\n",
       "</style>\n",
       "<table border=\"1\" class=\"dataframe\">\n",
       "  <thead>\n",
       "    <tr style=\"text-align: right;\">\n",
       "      <th></th>\n",
       "      <th>review</th>\n",
       "      <th>sentiment</th>\n",
       "      <th>review_len</th>\n",
       "      <th>word_count</th>\n",
       "      <th>procc_review</th>\n",
       "      <th>procc_len</th>\n",
       "    </tr>\n",
       "  </thead>\n",
       "  <tbody>\n",
       "    <tr>\n",
       "      <th>0</th>\n",
       "      <td>Love the staff, love the meat, love the place....</td>\n",
       "      <td>1</td>\n",
       "      <td>293</td>\n",
       "      <td>56</td>\n",
       "      <td>[love, staff, love, meat, love, place, prepare...</td>\n",
       "      <td>36</td>\n",
       "    </tr>\n",
       "    <tr>\n",
       "      <th>1</th>\n",
       "      <td>Super simple place but amazing nonetheless. It...</td>\n",
       "      <td>1</td>\n",
       "      <td>215</td>\n",
       "      <td>35</td>\n",
       "      <td>[super, simple, place, amazing, nonetheless, a...</td>\n",
       "      <td>18</td>\n",
       "    </tr>\n",
       "    <tr>\n",
       "      <th>2</th>\n",
       "      <td>Small unassuming place that changes their menu...</td>\n",
       "      <td>1</td>\n",
       "      <td>506</td>\n",
       "      <td>91</td>\n",
       "      <td>[small, unassuming, place, change, menu, every...</td>\n",
       "      <td>51</td>\n",
       "    </tr>\n",
       "    <tr>\n",
       "      <th>3</th>\n",
       "      <td>Lester's is located in a beautiful neighborhoo...</td>\n",
       "      <td>1</td>\n",
       "      <td>375</td>\n",
       "      <td>67</td>\n",
       "      <td>[lesters, located, beautiful, neighborhood, si...</td>\n",
       "      <td>32</td>\n",
       "    </tr>\n",
       "  </tbody>\n",
       "</table>\n",
       "</div>"
      ],
      "text/plain": [
       "                                              review  sentiment  review_len  \\\n",
       "0  Love the staff, love the meat, love the place....          1         293   \n",
       "1  Super simple place but amazing nonetheless. It...          1         215   \n",
       "2  Small unassuming place that changes their menu...          1         506   \n",
       "3  Lester's is located in a beautiful neighborhoo...          1         375   \n",
       "\n",
       "   word_count                                       procc_review  procc_len  \n",
       "0          56  [love, staff, love, meat, love, place, prepare...         36  \n",
       "1          35  [super, simple, place, amazing, nonetheless, a...         18  \n",
       "2          91  [small, unassuming, place, change, menu, every...         51  \n",
       "3          67  [lesters, located, beautiful, neighborhood, si...         32  "
      ]
     },
     "execution_count": 12,
     "metadata": {},
     "output_type": "execute_result"
    }
   ],
   "source": [
    "df_reviews['review_len'] = df_reviews['review'].astype(str).apply(len)\n",
    "df_reviews['word_count'] = df_reviews['review'].apply(lambda x: len(str(x).split()))\n",
    "df_reviews['procc_review'] = data \n",
    "df_reviews['procc_len'] = df_reviews['procc_review'].apply(lambda x: len(x))\n",
    "df_reviews.head(4)"
   ]
  },
  {
   "cell_type": "code",
   "execution_count": 13,
   "id": "73adeb60",
   "metadata": {},
   "outputs": [
    {
     "data": {
      "text/html": [
       "<div>\n",
       "<style scoped>\n",
       "    .dataframe tbody tr th:only-of-type {\n",
       "        vertical-align: middle;\n",
       "    }\n",
       "\n",
       "    .dataframe tbody tr th {\n",
       "        vertical-align: top;\n",
       "    }\n",
       "\n",
       "    .dataframe thead th {\n",
       "        text-align: right;\n",
       "    }\n",
       "</style>\n",
       "<table border=\"1\" class=\"dataframe\">\n",
       "  <thead>\n",
       "    <tr style=\"text-align: right;\">\n",
       "      <th></th>\n",
       "      <th>review</th>\n",
       "      <th>sentiment</th>\n",
       "      <th>review_len</th>\n",
       "      <th>word_count</th>\n",
       "      <th>procc_review</th>\n",
       "      <th>procc_len</th>\n",
       "      <th>polarity</th>\n",
       "    </tr>\n",
       "  </thead>\n",
       "  <tbody>\n",
       "    <tr>\n",
       "      <th>0</th>\n",
       "      <td>Love the staff, love the meat, love the place....</td>\n",
       "      <td>1</td>\n",
       "      <td>293</td>\n",
       "      <td>56</td>\n",
       "      <td>[love, staff, love, meat, love, place, prepare...</td>\n",
       "      <td>36</td>\n",
       "      <td>0.131481</td>\n",
       "    </tr>\n",
       "    <tr>\n",
       "      <th>1</th>\n",
       "      <td>Super simple place but amazing nonetheless. It...</td>\n",
       "      <td>1</td>\n",
       "      <td>215</td>\n",
       "      <td>35</td>\n",
       "      <td>[super, simple, place, amazing, nonetheless, a...</td>\n",
       "      <td>18</td>\n",
       "      <td>0.251389</td>\n",
       "    </tr>\n",
       "    <tr>\n",
       "      <th>2</th>\n",
       "      <td>Small unassuming place that changes their menu...</td>\n",
       "      <td>1</td>\n",
       "      <td>506</td>\n",
       "      <td>91</td>\n",
       "      <td>[small, unassuming, place, change, menu, every...</td>\n",
       "      <td>51</td>\n",
       "      <td>0.291667</td>\n",
       "    </tr>\n",
       "    <tr>\n",
       "      <th>3</th>\n",
       "      <td>Lester's is located in a beautiful neighborhoo...</td>\n",
       "      <td>1</td>\n",
       "      <td>375</td>\n",
       "      <td>67</td>\n",
       "      <td>[lesters, located, beautiful, neighborhood, si...</td>\n",
       "      <td>32</td>\n",
       "      <td>0.295833</td>\n",
       "    </tr>\n",
       "    <tr>\n",
       "      <th>4</th>\n",
       "      <td>Love coming here. Yes the place always needs t...</td>\n",
       "      <td>1</td>\n",
       "      <td>527</td>\n",
       "      <td>101</td>\n",
       "      <td>[love, coming, yes, place, always, need, floor...</td>\n",
       "      <td>52</td>\n",
       "      <td>0.192857</td>\n",
       "    </tr>\n",
       "  </tbody>\n",
       "</table>\n",
       "</div>"
      ],
      "text/plain": [
       "                                              review  sentiment  review_len  \\\n",
       "0  Love the staff, love the meat, love the place....          1         293   \n",
       "1  Super simple place but amazing nonetheless. It...          1         215   \n",
       "2  Small unassuming place that changes their menu...          1         506   \n",
       "3  Lester's is located in a beautiful neighborhoo...          1         375   \n",
       "4  Love coming here. Yes the place always needs t...          1         527   \n",
       "\n",
       "   word_count                                       procc_review  procc_len  \\\n",
       "0          56  [love, staff, love, meat, love, place, prepare...         36   \n",
       "1          35  [super, simple, place, amazing, nonetheless, a...         18   \n",
       "2          91  [small, unassuming, place, change, menu, every...         51   \n",
       "3          67  [lesters, located, beautiful, neighborhood, si...         32   \n",
       "4         101  [love, coming, yes, place, always, need, floor...         52   \n",
       "\n",
       "   polarity  \n",
       "0  0.131481  \n",
       "1  0.251389  \n",
       "2  0.291667  \n",
       "3  0.295833  \n",
       "4  0.192857  "
      ]
     },
     "execution_count": 13,
     "metadata": {},
     "output_type": "execute_result"
    }
   ],
   "source": [
    "df_reviews['polarity'] = df_reviews['review'].map(lambda text: TextBlob(text).sentiment.polarity)\n",
    "df_reviews.head()"
   ]
  },
  {
   "cell_type": "code",
   "execution_count": 19,
   "id": "020247fe",
   "metadata": {},
   "outputs": [
    {
     "data": {
      "text/plain": [
       "<AxesSubplot:xlabel='polarity', ylabel='Count'>"
      ]
     },
     "execution_count": 19,
     "metadata": {},
     "output_type": "execute_result"
    },
    {
     "data": {
      "image/png": "[encoded data removed]",
      "text/plain": [
       "<Figure size 1080x576 with 4 Axes>"
      ]
     },
     "metadata": {},
     "output_type": "display_data"
    }
   ],
   "source": [
    "fig1, axes1 = plt.subplots(2,2, constrained_layout=True, figsize=(15,8))\n",
    "sns.set_style('whitegrid')\n",
    "\n",
    "sns.histplot(data = df_reviews, x= 'review_len', hue ='sentiment', ax=axes1[0,0])\n",
    "sns.histplot(data = df_reviews, x= 'word_count', hue ='sentiment', ax=axes1[0,1])\n",
    "sns.histplot(data = df_reviews, x= 'procc_len', hue ='sentiment', ax=axes1[1,0])\n",
    "sns.histplot(data = df_reviews, x= 'polarity', hue ='sentiment', ax=axes1[1,1])"
   ]
  },
  {
   "cell_type": "code",
   "execution_count": 15,
   "id": "be9d444e",
   "metadata": {},
   "outputs": [
    {
     "name": "stdout",
     "output_type": "stream",
     "text": [
      "779\n"
     ]
    },
    {
     "data": {
      "text/html": [
       "<div>\n",
       "<style scoped>\n",
       "    .dataframe tbody tr th:only-of-type {\n",
       "        vertical-align: middle;\n",
       "    }\n",
       "\n",
       "    .dataframe tbody tr th {\n",
       "        vertical-align: top;\n",
       "    }\n",
       "\n",
       "    .dataframe thead th {\n",
       "        text-align: right;\n",
       "    }\n",
       "</style>\n",
       "<table border=\"1\" class=\"dataframe\">\n",
       "  <thead>\n",
       "    <tr style=\"text-align: right;\">\n",
       "      <th></th>\n",
       "      <th>review</th>\n",
       "      <th>sentiment</th>\n",
       "      <th>review_len</th>\n",
       "      <th>word_count</th>\n",
       "      <th>procc_review</th>\n",
       "      <th>procc_len</th>\n",
       "      <th>polarity</th>\n",
       "    </tr>\n",
       "  </thead>\n",
       "  <tbody>\n",
       "    <tr>\n",
       "      <th>436</th>\n",
       "      <td>Does anyone remember when Mill Avenue used to ...</td>\n",
       "      <td>1</td>\n",
       "      <td>4979</td>\n",
       "      <td>872</td>\n",
       "      <td>[anyone, remember, mill, avenue, used, fun, pl...</td>\n",
       "      <td>504</td>\n",
       "      <td>0.153372</td>\n",
       "    </tr>\n",
       "    <tr>\n",
       "      <th>15661</th>\n",
       "      <td>Ein Familientreffen führte uns (acht Personen)...</td>\n",
       "      <td>1</td>\n",
       "      <td>4197</td>\n",
       "      <td>564</td>\n",
       "      <td>[ein, familientreffen, führte, un, acht, perso...</td>\n",
       "      <td>544</td>\n",
       "      <td>0.000000</td>\n",
       "    </tr>\n",
       "    <tr>\n",
       "      <th>18965</th>\n",
       "      <td>Allgemein\\n\\n\\nAm 04.12.2013 wurde ich zu eine...</td>\n",
       "      <td>0</td>\n",
       "      <td>5000</td>\n",
       "      <td>832</td>\n",
       "      <td>[allgemeinnnnam, wurde, ich, zu, einen, essen,...</td>\n",
       "      <td>779</td>\n",
       "      <td>0.000000</td>\n",
       "    </tr>\n",
       "    <tr>\n",
       "      <th>18990</th>\n",
       "      <td>Kürzlich habe ich aus Termin-Gründen gleich zw...</td>\n",
       "      <td>1</td>\n",
       "      <td>4352</td>\n",
       "      <td>623</td>\n",
       "      <td>[kürzlich, habe, ich, au, termingründen, gleic...</td>\n",
       "      <td>600</td>\n",
       "      <td>0.140000</td>\n",
       "    </tr>\n",
       "    <tr>\n",
       "      <th>20946</th>\n",
       "      <td>Ikea.\\nVier Buchstaben, die für den einen das ...</td>\n",
       "      <td>1</td>\n",
       "      <td>4008</td>\n",
       "      <td>572</td>\n",
       "      <td>[ikeanvier, buchstaben, die, für, den, einen, ...</td>\n",
       "      <td>546</td>\n",
       "      <td>0.367188</td>\n",
       "    </tr>\n",
       "    <tr>\n",
       "      <th>32671</th>\n",
       "      <td>Zu Anfang wenn man an kommt, wird man von eine...</td>\n",
       "      <td>1</td>\n",
       "      <td>4630</td>\n",
       "      <td>713</td>\n",
       "      <td>[zu, anfang, wenn, man, kommt, wird, man, von,...</td>\n",
       "      <td>684</td>\n",
       "      <td>0.312500</td>\n",
       "    </tr>\n",
       "    <tr>\n",
       "      <th>48511</th>\n",
       "      <td>Wir waren zum zweiten Mal am Wochenende in der...</td>\n",
       "      <td>0</td>\n",
       "      <td>4203</td>\n",
       "      <td>680</td>\n",
       "      <td>[wir, waren, zum, zweiten, mal, wochenende, de...</td>\n",
       "      <td>652</td>\n",
       "      <td>0.000000</td>\n",
       "    </tr>\n",
       "    <tr>\n",
       "      <th>48513</th>\n",
       "      <td>Zwar ist Leonberg nicht die Hochburg feiner Re...</td>\n",
       "      <td>0</td>\n",
       "      <td>3872</td>\n",
       "      <td>597</td>\n",
       "      <td>[zwar, ist, leonberg, nicht, die, hochburg, fe...</td>\n",
       "      <td>576</td>\n",
       "      <td>0.750000</td>\n",
       "    </tr>\n",
       "    <tr>\n",
       "      <th>57845</th>\n",
       "      <td>J'ai pris rendez-vous avec l'académie pour une...</td>\n",
       "      <td>0</td>\n",
       "      <td>3161</td>\n",
       "      <td>564</td>\n",
       "      <td>[jai, pris, rendezvous, avec, lacadémie, pour,...</td>\n",
       "      <td>528</td>\n",
       "      <td>0.225000</td>\n",
       "    </tr>\n",
       "  </tbody>\n",
       "</table>\n",
       "</div>"
      ],
      "text/plain": [
       "                                                  review  sentiment  \\\n",
       "436    Does anyone remember when Mill Avenue used to ...          1   \n",
       "15661  Ein Familientreffen führte uns (acht Personen)...          1   \n",
       "18965  Allgemein\\n\\n\\nAm 04.12.2013 wurde ich zu eine...          0   \n",
       "18990  Kürzlich habe ich aus Termin-Gründen gleich zw...          1   \n",
       "20946  Ikea.\\nVier Buchstaben, die für den einen das ...          1   \n",
       "32671  Zu Anfang wenn man an kommt, wird man von eine...          1   \n",
       "48511  Wir waren zum zweiten Mal am Wochenende in der...          0   \n",
       "48513  Zwar ist Leonberg nicht die Hochburg feiner Re...          0   \n",
       "57845  J'ai pris rendez-vous avec l'académie pour une...          0   \n",
       "\n",
       "       review_len  word_count  \\\n",
       "436          4979         872   \n",
       "15661        4197         564   \n",
       "18965        5000         832   \n",
       "18990        4352         623   \n",
       "20946        4008         572   \n",
       "32671        4630         713   \n",
       "48511        4203         680   \n",
       "48513        3872         597   \n",
       "57845        3161         564   \n",
       "\n",
       "                                            procc_review  procc_len  polarity  \n",
       "436    [anyone, remember, mill, avenue, used, fun, pl...        504  0.153372  \n",
       "15661  [ein, familientreffen, führte, un, acht, perso...        544  0.000000  \n",
       "18965  [allgemeinnnnam, wurde, ich, zu, einen, essen,...        779  0.000000  \n",
       "18990  [kürzlich, habe, ich, au, termingründen, gleic...        600  0.140000  \n",
       "20946  [ikeanvier, buchstaben, die, für, den, einen, ...        546  0.367188  \n",
       "32671  [zu, anfang, wenn, man, kommt, wird, man, von,...        684  0.312500  \n",
       "48511  [wir, waren, zum, zweiten, mal, wochenende, de...        652  0.000000  \n",
       "48513  [zwar, ist, leonberg, nicht, die, hochburg, fe...        576  0.750000  \n",
       "57845  [jai, pris, rendezvous, avec, lacadémie, pour,...        528  0.225000  "
      ]
     },
     "execution_count": 15,
     "metadata": {},
     "output_type": "execute_result"
    }
   ],
   "source": [
    "print(df_reviews['procc_len'].max())\n",
    "list1 = df_reviews[df_reviews['procc_len'] >=500]\n",
    "list1"
   ]
  },
  {
   "cell_type": "code",
   "execution_count": 16,
   "id": "1836d0db",
   "metadata": {},
   "outputs": [
    {
     "name": "stdout",
     "output_type": "stream",
     "text": [
      "0    29996\n",
      "1    29995\n",
      "Name: sentiment, dtype: int64\n"
     ]
    }
   ],
   "source": [
    "''' Using describe(), 75% of  length of procc_review is around 80 strings in it, Yet - the max len of characters \n",
    "is over 700. As we can see from the following block of code,8 out of 9 with more then 500 chars is in German,\n",
    "and therfore will be dropped from the observations, regarding the additional observation in English - from quick reading this\n",
    "is more of a story then a  review and therfore more noise then helpful for our model. (*also the dropped set is balanced so\n",
    "the new dataset will be close to balanced still) \n",
    "all will be dropped\n",
    "(the additional 1 observation with over 500 is anot )\n",
    "'''\n",
    "\n",
    "drop_idx = df_reviews[df_reviews['procc_len'] >=500].index.tolist()\n",
    "df_reviews.drop(drop_idx, axis = 0, inplace = True)\n",
    "\n",
    "print(df_reviews['sentiment'].value_counts())"
   ]
  },
  {
   "cell_type": "code",
   "execution_count": 18,
   "id": "8289b566",
   "metadata": {},
   "outputs": [
    {
     "data": {
      "text/plain": [
       "<AxesSubplot:xlabel='polarity', ylabel='Count'>"
      ]
     },
     "execution_count": 18,
     "metadata": {},
     "output_type": "execute_result"
    },
    {
     "data": {
      "image/png": "[encoded data removed]",
      "text/plain": [
       "<Figure size 1080x576 with 4 Axes>"
      ]
     },
     "metadata": {},
     "output_type": "display_data"
    }
   ],
   "source": [
    "fig2, axes2 = plt.subplots(2,2, constrained_layout=True, figsize=(15,8))\n",
    "sns.set_style('whitegrid')\n",
    "\n",
    "sns.histplot(data = df_reviews, x= 'review_len', hue ='sentiment', ax=axes2[0,0])\n",
    "sns.histplot(data = df_reviews, x= 'word_count', hue ='sentiment', ax=axes2[0,1])\n",
    "sns.histplot(data = df_reviews, x= 'procc_len', hue ='sentiment', ax=axes2[1,0])\n",
    "sns.histplot(data = df_reviews, x= 'polarity', hue ='sentiment', ax=axes2[1,1])"
   ]
  },
  {
   "cell_type": "markdown",
   "id": "b2a758c9",
   "metadata": {},
   "source": [
    "Dist of review length and #words are similar (as well as for the length of #procc words), though majority of reviews are short\n",
    "and less then 80 words (procc_len) as shown with above. \n",
    "Another interesting note is - positive reviews tend to be shorter while negative -long. \n",
    "\n",
    "Polarity distribution of sentiment = 0 is close to normal - with mean close to 0 - meaning the reviews are objective mostly,\n",
    "while sentiment = 1 has gaussian distribution with mean arround 0.25, having their reviews being slightly subjective"
   ]
  },
  {
   "cell_type": "code",
   "execution_count": 20,
   "id": "fb501f7a",
   "metadata": {},
   "outputs": [
    {
     "data": {
      "text/plain": [
       "Text(0.5, 1.0, 'Sentiment vs #words')"
      ]
     },
     "execution_count": 20,
     "metadata": {},
     "output_type": "execute_result"
    },
    {
     "data": {
      "image/png": "[encoded data removed]",
      "text/plain": [
       "<Figure size 864x504 with 2 Axes>"
      ]
     },
     "metadata": {},
     "output_type": "display_data"
    }
   ],
   "source": [
    "fig3, axes3 = plt.subplots(1,2, constrained_layout=True, figsize=(12,7))\n",
    "sns.set_style('whitegrid')\n",
    "\n",
    "sns.boxplot(data = df_reviews, x = 'sentiment', y='polarity', ax=axes3[0])\n",
    "axes3[0].set_title(\"Sentiment vs Polarity\")\n",
    "\n",
    "sns.boxplot(data = df_reviews, x = 'sentiment', y='procc_len', ax=axes3[1])\n",
    "axes3[1].set_title(\"Sentiment vs #words\")"
   ]
  },
  {
   "cell_type": "markdown",
   "id": "e9847b63",
   "metadata": {},
   "source": [
    "## Hyperparameter Optimization \n",
    "\n",
    "Find the  best hyperparameters for highest accuracy\n"
   ]
  },
  {
   "cell_type": "code",
   "execution_count": 21,
   "id": "8a2d1a94",
   "metadata": {},
   "outputs": [],
   "source": [
    "vocab_size, data = vectorization_pad(df_reviews['procc_review'])\n",
    "target = df_reviews['sentiment']"
   ]
  },
  {
   "cell_type": "code",
   "execution_count": 22,
   "id": "00d9b7a6",
   "metadata": {},
   "outputs": [
    {
     "name": "stdout",
     "output_type": "stream",
     "text": [
      "Train set shape is: (35994, 500), with 17901 obsv labeld 0, 18093 obsv labeld 1\n",
      "Validation set shape is: (11998, 500), with 6098 obsv labeld 0, 5900 obsv labeld 1\n",
      "Test set shape is: (11999, 500), with 5997 obsv labeld 0, 6002 obsv labeld 1\n"
     ]
    }
   ],
   "source": [
    "X_train, X_valid, X_test, y_train, y_valid, y_test = trainValidTestSplit(data, target)"
   ]
  },
  {
   "cell_type": "code",
   "execution_count": 27,
   "id": "ab941441",
   "metadata": {},
   "outputs": [],
   "source": [
    "embed_vector = [16,32,64,128]\n",
    "epochs = [1,3,5,7]\n",
    "batch_size = [100, 200, 400, 1600]\n",
    "dropout_param1D = [0.2, 0.25, 0.3, 0.4, 0.5, 0.6, 0.75]\n",
    "dropout_param = [0.2, 0.25, 0.3, 0.4, 0.5, 0.6, 0.75]\n",
    "optimizer = ['RMSprop', 'adam', 'Adamax', 'sgd']\n",
    "\n",
    "\n",
    "random_grid = dict(\n",
    "    embed_vector=embed_vector,\n",
    "    dropout_param1D=dropout_param1D,\n",
    "    dropout_param = dropout_param,\n",
    "    optimizer=optimizer,\n",
    "    epochs=epochs,\n",
    "    batch_size = batch_size\n",
    ")"
   ]
  },
  {
   "cell_type": "code",
   "execution_count": 28,
   "id": "e18d7924",
   "metadata": {},
   "outputs": [
    {
     "name": "stdout",
     "output_type": "stream",
     "text": [
      " Iteration #1,\n",
      "            The chosen parameters are:\n",
      "            Embed_vector:                    16,\n",
      "            Dropout:                    0.25, 0.4,\n",
      "            Optimizer:                       RMSprop,\n",
      "            Batch & Epoch:              400, 7\n",
      "            \n",
      "sample #1 is done, 4 samples left\n",
      "current accuracy is 0.9500194191932678\n",
      "- - - - - - - - - - - - - - - - - - - - - -\n",
      " Iteration #2,\n",
      "            The chosen parameters are:\n",
      "            Embed_vector:                    128,\n",
      "            Dropout:                    0.3, 0.3,\n",
      "            Optimizer:                       adam,\n",
      "            Batch & Epoch:              100, 1\n",
      "            \n",
      "sample #2 is done, 3 samples left\n",
      "current accuracy is 0.9500194191932678\n",
      "- - - - - - - - - - - - - - - - - - - - - -\n",
      " Iteration #3,\n",
      "            The chosen parameters are:\n",
      "            Embed_vector:                    128,\n",
      "            Dropout:                    0.2, 0.75,\n",
      "            Optimizer:                       RMSprop,\n",
      "            Batch & Epoch:              400, 5\n",
      "            \n",
      "sample #3 is done, 2 samples left\n",
      "current accuracy is 0.9538256525993347\n",
      "- - - - - - - - - - - - - - - - - - - - - -\n",
      " Iteration #4,\n",
      "            The chosen parameters are:\n",
      "            Embed_vector:                    128,\n",
      "            Dropout:                    0.25, 0.6,\n",
      "            Optimizer:                       adam,\n",
      "            Batch & Epoch:              1600, 5\n",
      "            \n",
      "sample #4 is done, 1 samples left\n",
      "current accuracy is 0.9538256525993347\n",
      "- - - - - - - - - - - - - - - - - - - - - -\n",
      " Iteration #5,\n",
      "            The chosen parameters are:\n",
      "            Embed_vector:                    32,\n",
      "            Dropout:                    0.4, 0.5,\n",
      "            Optimizer:                       sgd,\n",
      "            Batch & Epoch:              1600, 1\n",
      "            \n",
      "sample #5 is done, 0 samples left\n",
      "current accuracy is 0.9538256525993347\n",
      "- - - - - - - - - - - - - - - - - - - - - -\n",
      "Tuner is done\n"
     ]
    }
   ],
   "source": [
    "Tuner = HyperparameterTuner_Randomized(param_grid= random_grid, vocab_size = vocab_size, X_train=X_train,\n",
    "                               Y_train= y_train, X_valid=X_valid, Y_valid= y_valid, n_iter= 5)"
   ]
  },
  {
   "cell_type": "markdown",
   "id": "bf44ca32",
   "metadata": {},
   "source": [
    "## Model Results\n"
   ]
  },
  {
   "cell_type": "code",
   "execution_count": 29,
   "id": "f529c705",
   "metadata": {},
   "outputs": [],
   "source": [
    "# Best parameters: \n",
    "embed_vector,dropout_param1D,dropout_1param, optimizer,batch_size,epochs = list(Tuner.parameters.values())"
   ]
  },
  {
   "cell_type": "code",
   "execution_count": 34,
   "id": "16281b26",
   "metadata": {},
   "outputs": [
    {
     "data": {
      "text/plain": [
       "0.9538256525993347"
      ]
     },
     "execution_count": 34,
     "metadata": {},
     "output_type": "execute_result"
    }
   ],
   "source": [
    "Tuner.ac3curacy"
   ]
  },
  {
   "cell_type": "code",
   "execution_count": 35,
   "id": "1c77b741",
   "metadata": {},
   "outputs": [
    {
     "data": {
      "text/plain": [
       "0.9199866652488708"
      ]
     },
     "execution_count": 35,
     "metadata": {},
     "output_type": "execute_result"
    }
   ],
   "source": [
    "Tuner.val_accuracy"
   ]
  },
  {
   "cell_type": "code",
   "execution_count": 36,
   "id": "b4d8e37e",
   "metadata": {},
   "outputs": [
    {
     "data": {
      "text/plain": [
       "0.1271643489599228"
      ]
     },
     "execution_count": 36,
     "metadata": {},
     "output_type": "execute_result"
    }
   ],
   "source": [
    "Tuner.loss"
   ]
  },
  {
   "cell_type": "code",
   "execution_count": 37,
   "id": "7592bd1b",
   "metadata": {},
   "outputs": [],
   "source": [
    "model = MySequential(vocab_size, embed_vector, dropout_param1D, dropout_1param )"
   ]
  },
  {
   "cell_type": "code",
   "execution_count": 38,
   "id": "1e58dc07",
   "metadata": {},
   "outputs": [
    {
     "name": "stdout",
     "output_type": "stream",
     "text": [
      "Epoch 1/5\n",
      "90/90 [==============================] - 668s 7s/step - loss: 0.3348 - accuracy: 0.8659 - val_loss: 0.2054 - val_accuracy: 0.9229\n",
      "Epoch 2/5\n",
      "90/90 [==============================] - 693s 8s/step - loss: 0.1811 - accuracy: 0.9335 - val_loss: 0.1912 - val_accuracy: 0.9272\n",
      "Epoch 3/5\n",
      "90/90 [==============================] - 684s 8s/step - loss: 0.1578 - accuracy: 0.9424 - val_loss: 0.1893 - val_accuracy: 0.9287\n",
      "Epoch 4/5\n",
      "90/90 [==============================] - 53267s 592s/step - loss: 0.1424 - accuracy: 0.9478 - val_loss: 0.1935 - val_accuracy: 0.9253\n",
      "Epoch 5/5\n",
      "90/90 [==============================] - 1066s 12s/step - loss: 0.1300 - accuracy: 0.9533 - val_loss: 0.2358 - val_accuracy: 0.9189\n"
     ]
    }
   ],
   "source": [
    "model.compile(loss='binary_crossentropy',optimizer=optimizer, metrics=['accuracy'])  \n",
    "history = model.fit(X_train, y_train, validation_data = (X_valid, y_valid), epochs=epochs, batch_size=batch_size, verbose = 1)"
   ]
  },
  {
   "cell_type": "code",
   "execution_count": 39,
   "id": "9e39b4a2",
   "metadata": {},
   "outputs": [
    {
     "name": "stdout",
     "output_type": "stream",
     "text": [
      "375/375 [==============================] - 45s 120ms/step - loss: 0.2497 - accuracy: 0.9156\n"
     ]
    }
   ],
   "source": [
    "evaluation = model.evaluate(X_test, y_test, verbose=1)"
   ]
  },
  {
   "cell_type": "code",
   "execution_count": 40,
   "id": "97a9354a",
   "metadata": {
    "scrolled": true
   },
   "outputs": [
    {
     "name": "stdout",
     "output_type": "stream",
     "text": [
      "model keys: dict_keys(['loss', 'accuracy', 'val_loss', 'val_accuracy'])\n",
      "model parameters: {'verbose': 1, 'epochs': 5, 'steps': 90}\n"
     ]
    }
   ],
   "source": [
    "print('model keys: {}'.format(history.history.keys()))\n",
    "print('model parameters: {}'.format(history.params))"
   ]
  },
  {
   "cell_type": "code",
   "execution_count": 42,
   "id": "40c230f2",
   "metadata": {},
   "outputs": [
    {
     "data": {
      "text/plain": [
       "0.9189031720161438"
      ]
     },
     "execution_count": 42,
     "metadata": {},
     "output_type": "execute_result"
    }
   ],
   "source": [
    "history.history['val_accuracy'][-1]"
   ]
  },
  {
   "cell_type": "code",
   "execution_count": 43,
   "id": "cc513255",
   "metadata": {},
   "outputs": [
    {
     "data": {
      "text/plain": [
       "<matplotlib.legend.Legend at 0x1bfe90cbe20>"
      ]
     },
     "execution_count": 43,
     "metadata": {},
     "output_type": "execute_result"
    },
    {
     "data": {
      "image/png": "[encoded data removed]",
      "text/plain": [
       "<Figure size 936x432 with 2 Axes>"
      ]
     },
     "metadata": {},
     "output_type": "display_data"
    }
   ],
   "source": [
    "fig1, axes = plt.subplots(1,2,constrained_layout=True, figsize=(13,6))\n",
    "\n",
    "axes[0].plot(history.history['accuracy'], label='loss', marker ='o')\n",
    "axes[0].plot(history.history['val_accuracy'], label='val_loss', marker ='o')\n",
    "axes[0].set_xlabel('Epoch number')\n",
    "axes[0].set_ylabel('Accuracy rate')\n",
    "axes[0].set_title('Modle accuracy rate over train and validation')\n",
    "axes[0].legend()\n",
    "\n",
    "axes[1].plot(history.history['loss'], label='loss', marker ='o')\n",
    "axes[1].plot(history.history['val_loss'], label='val_loss', marker ='o')\n",
    "axes[1].set_xlabel('Epoch number')\n",
    "axes[1].set_ylabel('Loss rate')\n",
    "axes[1].set_title('Modle loss rate over train and validation')\n",
    "axes[1].legend()"
   ]
  },
  {
   "cell_type": "code",
   "execution_count": 44,
   "id": "6290c7c6",
   "metadata": {},
   "outputs": [
    {
     "data": {
      "text/plain": [
       "[0.24974702298641205, 0.9155762791633606]"
      ]
     },
     "execution_count": 44,
     "metadata": {},
     "output_type": "execute_result"
    }
   ],
   "source": [
    "evaluation"
   ]
  },
  {
   "cell_type": "markdown",
   "id": "c1241ff9",
   "metadata": {},
   "source": [
    "Final Loss (Test Set) - 0.24974\n",
    "\n",
    "Final Accuracy (Test Set)- 0.91557"
   ]
  }
 ],
 "metadata": {
  "kernelspec": {
   "display_name": "Python 3",
   "language": "python",
   "name": "python3"
  },
  "language_info": {
   "codemirror_mode": {
    "name": "ipython",
    "version": 3
   },
   "file_extension": ".py",
   "mimetype": "text/x-python",
   "name": "python",
   "nbconvert_exporter": "python",
   "pygments_lexer": "ipython3",
   "version": "3.8.3"
  }
 },
 "nbformat": 4,
 "nbformat_minor": 5
}
